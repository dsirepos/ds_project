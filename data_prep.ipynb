{
 "cells": [
  {
   "cell_type": "markdown",
   "metadata": {},
   "source": [
    "# source: [Ethereum Historical data](https://www.kaggle.com/datasets/themrityunjaypathak/ethereum-historical-data)"
   ]
  },
  {
   "cell_type": "markdown",
   "metadata": {},
   "source": [
    "### Lib imports "
   ]
  },
  {
   "cell_type": "code",
   "execution_count": 71,
   "metadata": {},
   "outputs": [],
   "source": [
    "import pandas as pd \n",
    "import re \n",
    "import numpy as np\n",
    "\n"
   ]
  },
  {
   "cell_type": "code",
   "execution_count": 74,
   "metadata": {},
   "outputs": [],
   "source": [
    "url = f\"https://raw.githubusercontent.com/dsirepos/data/main/ethereum_price.csv\"\n",
    "df = pd.read_csv(url)"
   ]
  },
  {
   "cell_type": "code",
   "execution_count": 75,
   "metadata": {},
   "outputs": [
    {
     "data": {
      "text/html": [
       "<div>\n",
       "<style scoped>\n",
       "    .dataframe tbody tr th:only-of-type {\n",
       "        vertical-align: middle;\n",
       "    }\n",
       "\n",
       "    .dataframe tbody tr th {\n",
       "        vertical-align: top;\n",
       "    }\n",
       "\n",
       "    .dataframe thead th {\n",
       "        text-align: right;\n",
       "    }\n",
       "</style>\n",
       "<table border=\"1\" class=\"dataframe\">\n",
       "  <thead>\n",
       "    <tr style=\"text-align: right;\">\n",
       "      <th></th>\n",
       "      <th>Date</th>\n",
       "      <th>Price</th>\n",
       "      <th>Open</th>\n",
       "      <th>High</th>\n",
       "      <th>Low</th>\n",
       "      <th>Vol.</th>\n",
       "      <th>Change %</th>\n",
       "    </tr>\n",
       "  </thead>\n",
       "  <tbody>\n",
       "    <tr>\n",
       "      <th>0</th>\n",
       "      <td>Mar 08, 2023</td>\n",
       "      <td>1,553.49</td>\n",
       "      <td>1,561.79</td>\n",
       "      <td>1,569.70</td>\n",
       "      <td>1,548.98</td>\n",
       "      <td>498.57K</td>\n",
       "      <td>-0.53%</td>\n",
       "    </tr>\n",
       "    <tr>\n",
       "      <th>1</th>\n",
       "      <td>Mar 07, 2023</td>\n",
       "      <td>1,561.78</td>\n",
       "      <td>1,565.84</td>\n",
       "      <td>1,580.95</td>\n",
       "      <td>1,536.31</td>\n",
       "      <td>460.10K</td>\n",
       "      <td>-0.26%</td>\n",
       "    </tr>\n",
       "    <tr>\n",
       "      <th>2</th>\n",
       "      <td>Mar 06, 2023</td>\n",
       "      <td>1,565.84</td>\n",
       "      <td>1,564.36</td>\n",
       "      <td>1,581.13</td>\n",
       "      <td>1,555.43</td>\n",
       "      <td>322.16K</td>\n",
       "      <td>0.09%</td>\n",
       "    </tr>\n",
       "    <tr>\n",
       "      <th>3</th>\n",
       "      <td>Mar 05, 2023</td>\n",
       "      <td>1,564.37</td>\n",
       "      <td>1,566.73</td>\n",
       "      <td>1,587.95</td>\n",
       "      <td>1,556.84</td>\n",
       "      <td>313.01K</td>\n",
       "      <td>-0.15%</td>\n",
       "    </tr>\n",
       "    <tr>\n",
       "      <th>4</th>\n",
       "      <td>Mar 04, 2023</td>\n",
       "      <td>1,566.73</td>\n",
       "      <td>1,569.45</td>\n",
       "      <td>1,577.02</td>\n",
       "      <td>1,550.10</td>\n",
       "      <td>247.02K</td>\n",
       "      <td>-0.14%</td>\n",
       "    </tr>\n",
       "  </tbody>\n",
       "</table>\n",
       "</div>"
      ],
      "text/plain": [
       "           Date     Price      Open      High       Low     Vol. Change %\n",
       "0  Mar 08, 2023  1,553.49  1,561.79  1,569.70  1,548.98  498.57K   -0.53%\n",
       "1  Mar 07, 2023  1,561.78  1,565.84  1,580.95  1,536.31  460.10K   -0.26%\n",
       "2  Mar 06, 2023  1,565.84  1,564.36  1,581.13  1,555.43  322.16K    0.09%\n",
       "3  Mar 05, 2023  1,564.37  1,566.73  1,587.95  1,556.84  313.01K   -0.15%\n",
       "4  Mar 04, 2023  1,566.73  1,569.45  1,577.02  1,550.10  247.02K   -0.14%"
      ]
     },
     "execution_count": 75,
     "metadata": {},
     "output_type": "execute_result"
    }
   ],
   "source": [
    "# data preview \n",
    "df.head()"
   ]
  },
  {
   "cell_type": "code",
   "execution_count": 76,
   "metadata": {},
   "outputs": [
    {
     "name": "stdout",
     "output_type": "stream",
     "text": [
      "<class 'pandas.core.frame.DataFrame'>\n",
      "RangeIndex: 2555 entries, 0 to 2554\n",
      "Data columns (total 7 columns):\n",
      " #   Column    Non-Null Count  Dtype \n",
      "---  ------    --------------  ----- \n",
      " 0   Date      2555 non-null   object\n",
      " 1   Price     2555 non-null   object\n",
      " 2   Open      2555 non-null   object\n",
      " 3   High      2555 non-null   object\n",
      " 4   Low       2555 non-null   object\n",
      " 5   Vol.      2555 non-null   object\n",
      " 6   Change %  2555 non-null   object\n",
      "dtypes: object(7)\n",
      "memory usage: 139.9+ KB\n"
     ]
    }
   ],
   "source": [
    "# info about data \n",
    "\n",
    "df.info()"
   ]
  },
  {
   "cell_type": "markdown",
   "metadata": {},
   "source": [
    "## Data Pre-processing "
   ]
  },
  {
   "cell_type": "code",
   "execution_count": 77,
   "metadata": {},
   "outputs": [
    {
     "data": {
      "text/plain": [
       "Index(['date', 'price', 'open', 'high', 'low', 'volume', 'percentage_change'], dtype='object')"
      ]
     },
     "execution_count": 77,
     "metadata": {},
     "output_type": "execute_result"
    }
   ],
   "source": [
    "# column name Fix  : vol. , change %\n",
    "\n",
    "df.columns= [x.lower().strip().replace(' ', '_') for x in df.columns]\n",
    "\n",
    "df = df.rename(columns={'vol.' : 'volume', \"change_%\" : \"percentage_change\"})\n",
    "df.columns"
   ]
  },
  {
   "cell_type": "code",
   "execution_count": 78,
   "metadata": {},
   "outputs": [
    {
     "data": {
      "text/html": [
       "<div>\n",
       "<style scoped>\n",
       "    .dataframe tbody tr th:only-of-type {\n",
       "        vertical-align: middle;\n",
       "    }\n",
       "\n",
       "    .dataframe tbody tr th {\n",
       "        vertical-align: top;\n",
       "    }\n",
       "\n",
       "    .dataframe thead th {\n",
       "        text-align: right;\n",
       "    }\n",
       "</style>\n",
       "<table border=\"1\" class=\"dataframe\">\n",
       "  <thead>\n",
       "    <tr style=\"text-align: right;\">\n",
       "      <th></th>\n",
       "      <th>date</th>\n",
       "      <th>price</th>\n",
       "      <th>open</th>\n",
       "      <th>high</th>\n",
       "      <th>low</th>\n",
       "      <th>volume</th>\n",
       "      <th>percentage_change</th>\n",
       "    </tr>\n",
       "  </thead>\n",
       "  <tbody>\n",
       "    <tr>\n",
       "      <th>0</th>\n",
       "      <td>2023-03-08</td>\n",
       "      <td>1,553.49</td>\n",
       "      <td>1,561.79</td>\n",
       "      <td>1,569.70</td>\n",
       "      <td>1,548.98</td>\n",
       "      <td>498.57K</td>\n",
       "      <td>-0.53%</td>\n",
       "    </tr>\n",
       "    <tr>\n",
       "      <th>1</th>\n",
       "      <td>2023-03-07</td>\n",
       "      <td>1,561.78</td>\n",
       "      <td>1,565.84</td>\n",
       "      <td>1,580.95</td>\n",
       "      <td>1,536.31</td>\n",
       "      <td>460.10K</td>\n",
       "      <td>-0.26%</td>\n",
       "    </tr>\n",
       "    <tr>\n",
       "      <th>2</th>\n",
       "      <td>2023-03-06</td>\n",
       "      <td>1,565.84</td>\n",
       "      <td>1,564.36</td>\n",
       "      <td>1,581.13</td>\n",
       "      <td>1,555.43</td>\n",
       "      <td>322.16K</td>\n",
       "      <td>0.09%</td>\n",
       "    </tr>\n",
       "    <tr>\n",
       "      <th>3</th>\n",
       "      <td>2023-03-05</td>\n",
       "      <td>1,564.37</td>\n",
       "      <td>1,566.73</td>\n",
       "      <td>1,587.95</td>\n",
       "      <td>1,556.84</td>\n",
       "      <td>313.01K</td>\n",
       "      <td>-0.15%</td>\n",
       "    </tr>\n",
       "    <tr>\n",
       "      <th>4</th>\n",
       "      <td>2023-03-04</td>\n",
       "      <td>1,566.73</td>\n",
       "      <td>1,569.45</td>\n",
       "      <td>1,577.02</td>\n",
       "      <td>1,550.10</td>\n",
       "      <td>247.02K</td>\n",
       "      <td>-0.14%</td>\n",
       "    </tr>\n",
       "  </tbody>\n",
       "</table>\n",
       "</div>"
      ],
      "text/plain": [
       "        date     price      open      high       low   volume  \\\n",
       "0 2023-03-08  1,553.49  1,561.79  1,569.70  1,548.98  498.57K   \n",
       "1 2023-03-07  1,561.78  1,565.84  1,580.95  1,536.31  460.10K   \n",
       "2 2023-03-06  1,565.84  1,564.36  1,581.13  1,555.43  322.16K   \n",
       "3 2023-03-05  1,564.37  1,566.73  1,587.95  1,556.84  313.01K   \n",
       "4 2023-03-04  1,566.73  1,569.45  1,577.02  1,550.10  247.02K   \n",
       "\n",
       "  percentage_change  \n",
       "0            -0.53%  \n",
       "1            -0.26%  \n",
       "2             0.09%  \n",
       "3            -0.15%  \n",
       "4            -0.14%  "
      ]
     },
     "execution_count": 78,
     "metadata": {},
     "output_type": "execute_result"
    }
   ],
   "source": [
    "# dype change \n",
    "\n",
    "df['date'] = pd.to_datetime(df.date)\n",
    "\n",
    "df.head()"
   ]
  },
  {
   "cell_type": "code",
   "execution_count": 79,
   "metadata": {},
   "outputs": [
    {
     "data": {
      "text/html": [
       "<div>\n",
       "<style scoped>\n",
       "    .dataframe tbody tr th:only-of-type {\n",
       "        vertical-align: middle;\n",
       "    }\n",
       "\n",
       "    .dataframe tbody tr th {\n",
       "        vertical-align: top;\n",
       "    }\n",
       "\n",
       "    .dataframe thead th {\n",
       "        text-align: right;\n",
       "    }\n",
       "</style>\n",
       "<table border=\"1\" class=\"dataframe\">\n",
       "  <thead>\n",
       "    <tr style=\"text-align: right;\">\n",
       "      <th></th>\n",
       "      <th>date</th>\n",
       "      <th>price</th>\n",
       "      <th>open</th>\n",
       "      <th>high</th>\n",
       "      <th>low</th>\n",
       "      <th>volume</th>\n",
       "      <th>percentage_change</th>\n",
       "    </tr>\n",
       "  </thead>\n",
       "  <tbody>\n",
       "    <tr>\n",
       "      <th>0</th>\n",
       "      <td>2023-03-08</td>\n",
       "      <td>1553.49</td>\n",
       "      <td>1561.79</td>\n",
       "      <td>1569.70</td>\n",
       "      <td>1548.98</td>\n",
       "      <td>498570.0</td>\n",
       "      <td>-0.53</td>\n",
       "    </tr>\n",
       "    <tr>\n",
       "      <th>1</th>\n",
       "      <td>2023-03-07</td>\n",
       "      <td>1561.78</td>\n",
       "      <td>1565.84</td>\n",
       "      <td>1580.95</td>\n",
       "      <td>1536.31</td>\n",
       "      <td>460100.0</td>\n",
       "      <td>-0.26</td>\n",
       "    </tr>\n",
       "    <tr>\n",
       "      <th>2</th>\n",
       "      <td>2023-03-06</td>\n",
       "      <td>1565.84</td>\n",
       "      <td>1564.36</td>\n",
       "      <td>1581.13</td>\n",
       "      <td>1555.43</td>\n",
       "      <td>322160.0</td>\n",
       "      <td>0.09</td>\n",
       "    </tr>\n",
       "    <tr>\n",
       "      <th>3</th>\n",
       "      <td>2023-03-05</td>\n",
       "      <td>1564.37</td>\n",
       "      <td>1566.73</td>\n",
       "      <td>1587.95</td>\n",
       "      <td>1556.84</td>\n",
       "      <td>313010.0</td>\n",
       "      <td>-0.15</td>\n",
       "    </tr>\n",
       "    <tr>\n",
       "      <th>4</th>\n",
       "      <td>2023-03-04</td>\n",
       "      <td>1566.73</td>\n",
       "      <td>1569.45</td>\n",
       "      <td>1577.02</td>\n",
       "      <td>1550.10</td>\n",
       "      <td>247020.0</td>\n",
       "      <td>-0.14</td>\n",
       "    </tr>\n",
       "  </tbody>\n",
       "</table>\n",
       "</div>"
      ],
      "text/plain": [
       "        date    price     open     high      low    volume percentage_change\n",
       "0 2023-03-08  1553.49  1561.79  1569.70  1548.98  498570.0             -0.53\n",
       "1 2023-03-07  1561.78  1565.84  1580.95  1536.31  460100.0             -0.26\n",
       "2 2023-03-06  1565.84  1564.36  1581.13  1555.43  322160.0              0.09\n",
       "3 2023-03-05  1564.37  1566.73  1587.95  1556.84  313010.0             -0.15\n",
       "4 2023-03-04  1566.73  1569.45  1577.02  1550.10  247020.0             -0.14"
      ]
     },
     "execution_count": 79,
     "metadata": {},
     "output_type": "execute_result"
    }
   ],
   "source": [
    "df['price'] = df['price'].str.replace(',' , '')\n",
    "df['open'] = df['open'].str.replace(',', '')\n",
    "df['high'] = df['high'].str.replace(',', '')\n",
    "df['low'] = df['low'].str.replace(',', '')\n",
    "\n",
    "df['percentage_change'] = df['percentage_change'].str.replace('%', '')\n",
    "\n",
    "def normalize_volume(vol):\n",
    "    if vol[-1] == 'K':\n",
    "        return float(vol[:-1]) * 1000\n",
    "    elif vol[-1] == 'M':\n",
    "        return float(vol[:-1]) * 1_000_000\n",
    "    elif vol[-1] == 'B':\n",
    "        return float(vol[:-1]) * 1_000_000_000\n",
    "    elif vol == '-':\n",
    "        return np.NaN\n",
    "    else:\n",
    "        return float(vol)\n",
    "\n",
    "\n",
    "df['volume'] = df['volume'].apply(normalize_volume)\n",
    "\n",
    "\n",
    "\n",
    "df.head()"
   ]
  },
  {
   "cell_type": "code",
   "execution_count": 69,
   "metadata": {},
   "outputs": [
    {
     "data": {
      "text/plain": [
       "date                 0\n",
       "price                0\n",
       "open                 0\n",
       "high                 0\n",
       "low                  0\n",
       "volume               0\n",
       "percentage_change    0\n",
       "volume_normalized    8\n",
       "dtype: int64"
      ]
     },
     "execution_count": 69,
     "metadata": {},
     "output_type": "execute_result"
    }
   ],
   "source": [
    "df.isna().sum()"
   ]
  },
  {
   "attachments": {},
   "cell_type": "markdown",
   "metadata": {},
   "source": [
    "### Missing data check "
   ]
  },
  {
   "cell_type": "code",
   "execution_count": null,
   "metadata": {},
   "outputs": [],
   "source": []
  }
 ],
 "metadata": {
  "kernelspec": {
   "display_name": "base",
   "language": "python",
   "name": "python3"
  },
  "language_info": {
   "codemirror_mode": {
    "name": "ipython",
    "version": 3
   },
   "file_extension": ".py",
   "mimetype": "text/x-python",
   "name": "python",
   "nbconvert_exporter": "python",
   "pygments_lexer": "ipython3",
   "version": "3.9.12"
  },
  "orig_nbformat": 4
 },
 "nbformat": 4,
 "nbformat_minor": 2
}
