{
 "cells": [
  {
   "cell_type": "markdown",
   "metadata": {},
   "source": [
    "# source: [Ethereum Historical data](https://www.kaggle.com/datasets/themrityunjaypathak/ethereum-historical-data)"
   ]
  },
  {
   "cell_type": "markdown",
   "metadata": {},
   "source": [
    "### Lib imports "
   ]
  },
  {
   "cell_type": "code",
   "execution_count": 220,
   "metadata": {},
   "outputs": [],
   "source": [
    "import pandas as pd \n",
    "import re \n",
    "import numpy as np\n",
    "\n",
    "import matplotlib.pyplot as plt\n",
    "\n",
    "from sklearn.preprocessing import MinMaxScaler\n",
    "\n"
   ]
  },
  {
   "cell_type": "code",
   "execution_count": 268,
   "metadata": {},
   "outputs": [],
   "source": [
    "url = f\"https://raw.githubusercontent.com/dsirepos/data/main/ethereum_price.csv\"\n",
    "df = pd.read_csv(url)"
   ]
  },
  {
   "cell_type": "code",
   "execution_count": 269,
   "metadata": {},
   "outputs": [
    {
     "data": {
      "text/html": [
       "<div>\n",
       "<style scoped>\n",
       "    .dataframe tbody tr th:only-of-type {\n",
       "        vertical-align: middle;\n",
       "    }\n",
       "\n",
       "    .dataframe tbody tr th {\n",
       "        vertical-align: top;\n",
       "    }\n",
       "\n",
       "    .dataframe thead th {\n",
       "        text-align: right;\n",
       "    }\n",
       "</style>\n",
       "<table border=\"1\" class=\"dataframe\">\n",
       "  <thead>\n",
       "    <tr style=\"text-align: right;\">\n",
       "      <th></th>\n",
       "      <th>Date</th>\n",
       "      <th>Price</th>\n",
       "      <th>Open</th>\n",
       "      <th>High</th>\n",
       "      <th>Low</th>\n",
       "      <th>Vol.</th>\n",
       "      <th>Change %</th>\n",
       "    </tr>\n",
       "  </thead>\n",
       "  <tbody>\n",
       "    <tr>\n",
       "      <th>0</th>\n",
       "      <td>Mar 08, 2023</td>\n",
       "      <td>1,553.49</td>\n",
       "      <td>1,561.79</td>\n",
       "      <td>1,569.70</td>\n",
       "      <td>1,548.98</td>\n",
       "      <td>498.57K</td>\n",
       "      <td>-0.53%</td>\n",
       "    </tr>\n",
       "    <tr>\n",
       "      <th>1</th>\n",
       "      <td>Mar 07, 2023</td>\n",
       "      <td>1,561.78</td>\n",
       "      <td>1,565.84</td>\n",
       "      <td>1,580.95</td>\n",
       "      <td>1,536.31</td>\n",
       "      <td>460.10K</td>\n",
       "      <td>-0.26%</td>\n",
       "    </tr>\n",
       "    <tr>\n",
       "      <th>2</th>\n",
       "      <td>Mar 06, 2023</td>\n",
       "      <td>1,565.84</td>\n",
       "      <td>1,564.36</td>\n",
       "      <td>1,581.13</td>\n",
       "      <td>1,555.43</td>\n",
       "      <td>322.16K</td>\n",
       "      <td>0.09%</td>\n",
       "    </tr>\n",
       "    <tr>\n",
       "      <th>3</th>\n",
       "      <td>Mar 05, 2023</td>\n",
       "      <td>1,564.37</td>\n",
       "      <td>1,566.73</td>\n",
       "      <td>1,587.95</td>\n",
       "      <td>1,556.84</td>\n",
       "      <td>313.01K</td>\n",
       "      <td>-0.15%</td>\n",
       "    </tr>\n",
       "    <tr>\n",
       "      <th>4</th>\n",
       "      <td>Mar 04, 2023</td>\n",
       "      <td>1,566.73</td>\n",
       "      <td>1,569.45</td>\n",
       "      <td>1,577.02</td>\n",
       "      <td>1,550.10</td>\n",
       "      <td>247.02K</td>\n",
       "      <td>-0.14%</td>\n",
       "    </tr>\n",
       "  </tbody>\n",
       "</table>\n",
       "</div>"
      ],
      "text/plain": [
       "           Date     Price      Open      High       Low     Vol. Change %\n",
       "0  Mar 08, 2023  1,553.49  1,561.79  1,569.70  1,548.98  498.57K   -0.53%\n",
       "1  Mar 07, 2023  1,561.78  1,565.84  1,580.95  1,536.31  460.10K   -0.26%\n",
       "2  Mar 06, 2023  1,565.84  1,564.36  1,581.13  1,555.43  322.16K    0.09%\n",
       "3  Mar 05, 2023  1,564.37  1,566.73  1,587.95  1,556.84  313.01K   -0.15%\n",
       "4  Mar 04, 2023  1,566.73  1,569.45  1,577.02  1,550.10  247.02K   -0.14%"
      ]
     },
     "execution_count": 269,
     "metadata": {},
     "output_type": "execute_result"
    }
   ],
   "source": [
    "# data preview \n",
    "df.head()"
   ]
  },
  {
   "cell_type": "code",
   "execution_count": 270,
   "metadata": {},
   "outputs": [
    {
     "name": "stdout",
     "output_type": "stream",
     "text": [
      "<class 'pandas.core.frame.DataFrame'>\n",
      "RangeIndex: 2555 entries, 0 to 2554\n",
      "Data columns (total 7 columns):\n",
      " #   Column    Non-Null Count  Dtype \n",
      "---  ------    --------------  ----- \n",
      " 0   Date      2555 non-null   object\n",
      " 1   Price     2555 non-null   object\n",
      " 2   Open      2555 non-null   object\n",
      " 3   High      2555 non-null   object\n",
      " 4   Low       2555 non-null   object\n",
      " 5   Vol.      2555 non-null   object\n",
      " 6   Change %  2555 non-null   object\n",
      "dtypes: object(7)\n",
      "memory usage: 139.9+ KB\n"
     ]
    }
   ],
   "source": [
    "# info about data \n",
    "\n",
    "df.info()"
   ]
  },
  {
   "cell_type": "markdown",
   "metadata": {},
   "source": [
    "## Data Pre-processing "
   ]
  },
  {
   "cell_type": "code",
   "execution_count": 271,
   "metadata": {},
   "outputs": [
    {
     "data": {
      "text/plain": [
       "Index(['date', 'price', 'open', 'high', 'low', 'volume', 'percentage_change'], dtype='object')"
      ]
     },
     "execution_count": 271,
     "metadata": {},
     "output_type": "execute_result"
    }
   ],
   "source": [
    "# column name Fix  : vol. , change %\n",
    "\n",
    "df.columns= [x.lower().strip().replace(' ', '_') for x in df.columns]\n",
    "\n",
    "df = df.rename(columns={'vol.' : 'volume', \"change_%\" : \"percentage_change\"})\n",
    "df.columns"
   ]
  },
  {
   "cell_type": "code",
   "execution_count": 272,
   "metadata": {},
   "outputs": [
    {
     "data": {
      "text/html": [
       "<div>\n",
       "<style scoped>\n",
       "    .dataframe tbody tr th:only-of-type {\n",
       "        vertical-align: middle;\n",
       "    }\n",
       "\n",
       "    .dataframe tbody tr th {\n",
       "        vertical-align: top;\n",
       "    }\n",
       "\n",
       "    .dataframe thead th {\n",
       "        text-align: right;\n",
       "    }\n",
       "</style>\n",
       "<table border=\"1\" class=\"dataframe\">\n",
       "  <thead>\n",
       "    <tr style=\"text-align: right;\">\n",
       "      <th></th>\n",
       "      <th>date</th>\n",
       "      <th>price</th>\n",
       "      <th>open</th>\n",
       "      <th>high</th>\n",
       "      <th>low</th>\n",
       "      <th>volume</th>\n",
       "      <th>percentage_change</th>\n",
       "    </tr>\n",
       "  </thead>\n",
       "  <tbody>\n",
       "    <tr>\n",
       "      <th>0</th>\n",
       "      <td>2023-03-08</td>\n",
       "      <td>1,553.49</td>\n",
       "      <td>1,561.79</td>\n",
       "      <td>1,569.70</td>\n",
       "      <td>1,548.98</td>\n",
       "      <td>498.57K</td>\n",
       "      <td>-0.53%</td>\n",
       "    </tr>\n",
       "    <tr>\n",
       "      <th>1</th>\n",
       "      <td>2023-03-07</td>\n",
       "      <td>1,561.78</td>\n",
       "      <td>1,565.84</td>\n",
       "      <td>1,580.95</td>\n",
       "      <td>1,536.31</td>\n",
       "      <td>460.10K</td>\n",
       "      <td>-0.26%</td>\n",
       "    </tr>\n",
       "    <tr>\n",
       "      <th>2</th>\n",
       "      <td>2023-03-06</td>\n",
       "      <td>1,565.84</td>\n",
       "      <td>1,564.36</td>\n",
       "      <td>1,581.13</td>\n",
       "      <td>1,555.43</td>\n",
       "      <td>322.16K</td>\n",
       "      <td>0.09%</td>\n",
       "    </tr>\n",
       "    <tr>\n",
       "      <th>3</th>\n",
       "      <td>2023-03-05</td>\n",
       "      <td>1,564.37</td>\n",
       "      <td>1,566.73</td>\n",
       "      <td>1,587.95</td>\n",
       "      <td>1,556.84</td>\n",
       "      <td>313.01K</td>\n",
       "      <td>-0.15%</td>\n",
       "    </tr>\n",
       "    <tr>\n",
       "      <th>4</th>\n",
       "      <td>2023-03-04</td>\n",
       "      <td>1,566.73</td>\n",
       "      <td>1,569.45</td>\n",
       "      <td>1,577.02</td>\n",
       "      <td>1,550.10</td>\n",
       "      <td>247.02K</td>\n",
       "      <td>-0.14%</td>\n",
       "    </tr>\n",
       "  </tbody>\n",
       "</table>\n",
       "</div>"
      ],
      "text/plain": [
       "        date     price      open      high       low   volume  \\\n",
       "0 2023-03-08  1,553.49  1,561.79  1,569.70  1,548.98  498.57K   \n",
       "1 2023-03-07  1,561.78  1,565.84  1,580.95  1,536.31  460.10K   \n",
       "2 2023-03-06  1,565.84  1,564.36  1,581.13  1,555.43  322.16K   \n",
       "3 2023-03-05  1,564.37  1,566.73  1,587.95  1,556.84  313.01K   \n",
       "4 2023-03-04  1,566.73  1,569.45  1,577.02  1,550.10  247.02K   \n",
       "\n",
       "  percentage_change  \n",
       "0            -0.53%  \n",
       "1            -0.26%  \n",
       "2             0.09%  \n",
       "3            -0.15%  \n",
       "4            -0.14%  "
      ]
     },
     "execution_count": 272,
     "metadata": {},
     "output_type": "execute_result"
    }
   ],
   "source": [
    "# dype change \n",
    "\n",
    "df['date'] = pd.to_datetime(df.date)\n",
    "\n",
    "df.head()"
   ]
  },
  {
   "cell_type": "code",
   "execution_count": 273,
   "metadata": {},
   "outputs": [
    {
     "data": {
      "text/html": [
       "<div>\n",
       "<style scoped>\n",
       "    .dataframe tbody tr th:only-of-type {\n",
       "        vertical-align: middle;\n",
       "    }\n",
       "\n",
       "    .dataframe tbody tr th {\n",
       "        vertical-align: top;\n",
       "    }\n",
       "\n",
       "    .dataframe thead th {\n",
       "        text-align: right;\n",
       "    }\n",
       "</style>\n",
       "<table border=\"1\" class=\"dataframe\">\n",
       "  <thead>\n",
       "    <tr style=\"text-align: right;\">\n",
       "      <th></th>\n",
       "      <th>date</th>\n",
       "      <th>price</th>\n",
       "      <th>open</th>\n",
       "      <th>high</th>\n",
       "      <th>low</th>\n",
       "      <th>volume</th>\n",
       "      <th>percentage_change</th>\n",
       "    </tr>\n",
       "  </thead>\n",
       "  <tbody>\n",
       "    <tr>\n",
       "      <th>0</th>\n",
       "      <td>2023-03-08</td>\n",
       "      <td>1553.49</td>\n",
       "      <td>1561.79</td>\n",
       "      <td>1569.70</td>\n",
       "      <td>1548.98</td>\n",
       "      <td>498570.0</td>\n",
       "      <td>-0.53</td>\n",
       "    </tr>\n",
       "    <tr>\n",
       "      <th>1</th>\n",
       "      <td>2023-03-07</td>\n",
       "      <td>1561.78</td>\n",
       "      <td>1565.84</td>\n",
       "      <td>1580.95</td>\n",
       "      <td>1536.31</td>\n",
       "      <td>460100.0</td>\n",
       "      <td>-0.26</td>\n",
       "    </tr>\n",
       "    <tr>\n",
       "      <th>2</th>\n",
       "      <td>2023-03-06</td>\n",
       "      <td>1565.84</td>\n",
       "      <td>1564.36</td>\n",
       "      <td>1581.13</td>\n",
       "      <td>1555.43</td>\n",
       "      <td>322160.0</td>\n",
       "      <td>0.09</td>\n",
       "    </tr>\n",
       "    <tr>\n",
       "      <th>3</th>\n",
       "      <td>2023-03-05</td>\n",
       "      <td>1564.37</td>\n",
       "      <td>1566.73</td>\n",
       "      <td>1587.95</td>\n",
       "      <td>1556.84</td>\n",
       "      <td>313010.0</td>\n",
       "      <td>-0.15</td>\n",
       "    </tr>\n",
       "    <tr>\n",
       "      <th>4</th>\n",
       "      <td>2023-03-04</td>\n",
       "      <td>1566.73</td>\n",
       "      <td>1569.45</td>\n",
       "      <td>1577.02</td>\n",
       "      <td>1550.10</td>\n",
       "      <td>247020.0</td>\n",
       "      <td>-0.14</td>\n",
       "    </tr>\n",
       "  </tbody>\n",
       "</table>\n",
       "</div>"
      ],
      "text/plain": [
       "        date    price     open     high      low    volume percentage_change\n",
       "0 2023-03-08  1553.49  1561.79  1569.70  1548.98  498570.0             -0.53\n",
       "1 2023-03-07  1561.78  1565.84  1580.95  1536.31  460100.0             -0.26\n",
       "2 2023-03-06  1565.84  1564.36  1581.13  1555.43  322160.0              0.09\n",
       "3 2023-03-05  1564.37  1566.73  1587.95  1556.84  313010.0             -0.15\n",
       "4 2023-03-04  1566.73  1569.45  1577.02  1550.10  247020.0             -0.14"
      ]
     },
     "execution_count": 273,
     "metadata": {},
     "output_type": "execute_result"
    }
   ],
   "source": [
    "df['price'] = df['price'].str.replace(',' , '')\n",
    "df['open'] = df['open'].str.replace(',', '')\n",
    "df['high'] = df['high'].str.replace(',', '')\n",
    "df['low'] = df['low'].str.replace(',', '')\n",
    "\n",
    "df['percentage_change'] = df['percentage_change'].str.replace('%', '')\n",
    "\n",
    "def normalize_volume(vol):\n",
    "    if vol[-1] == 'K':\n",
    "        return float(vol[:-1]) * 1000\n",
    "    elif vol[-1] == 'M':\n",
    "        return float(vol[:-1]) * 1_000_000\n",
    "    elif vol[-1] == 'B':\n",
    "        return float(vol[:-1]) * 1_000_000_000\n",
    "    elif vol == '-':\n",
    "        return np.NaN\n",
    "    else:\n",
    "        return float(vol)\n",
    "\n",
    "\n",
    "df['volume'] = df['volume'].apply(normalize_volume)\n",
    "\n",
    "\n",
    "\n",
    "df.head()"
   ]
  },
  {
   "cell_type": "code",
   "execution_count": 274,
   "metadata": {},
   "outputs": [
    {
     "data": {
      "text/plain": [
       "date     0\n",
       "price    0\n",
       "open     0\n",
       "high     0\n",
       "low      0\n",
       "dtype: int64"
      ]
     },
     "execution_count": 274,
     "metadata": {},
     "output_type": "execute_result"
    }
   ],
   "source": [
    "_ = df.isna().sum()\n",
    "_.head()"
   ]
  },
  {
   "attachments": {},
   "cell_type": "markdown",
   "metadata": {},
   "source": [
    "## Missing data"
   ]
  },
  {
   "cell_type": "code",
   "execution_count": 276,
   "metadata": {},
   "outputs": [
    {
     "data": {
      "text/html": [
       "<div>\n",
       "<style scoped>\n",
       "    .dataframe tbody tr th:only-of-type {\n",
       "        vertical-align: middle;\n",
       "    }\n",
       "\n",
       "    .dataframe tbody tr th {\n",
       "        vertical-align: top;\n",
       "    }\n",
       "\n",
       "    .dataframe thead th {\n",
       "        text-align: right;\n",
       "    }\n",
       "</style>\n",
       "<table border=\"1\" class=\"dataframe\">\n",
       "  <thead>\n",
       "    <tr style=\"text-align: right;\">\n",
       "      <th></th>\n",
       "      <th>date</th>\n",
       "      <th>price</th>\n",
       "      <th>open</th>\n",
       "      <th>high</th>\n",
       "      <th>low</th>\n",
       "      <th>volume</th>\n",
       "      <th>percentage_change</th>\n",
       "    </tr>\n",
       "  </thead>\n",
       "  <tbody>\n",
       "    <tr>\n",
       "      <th>1928</th>\n",
       "      <td>2017-11-26</td>\n",
       "      <td>464.00</td>\n",
       "      <td>464.00</td>\n",
       "      <td>464.00</td>\n",
       "      <td>464.00</td>\n",
       "      <td>NaN</td>\n",
       "      <td>0.00</td>\n",
       "    </tr>\n",
       "    <tr>\n",
       "      <th>2402</th>\n",
       "      <td>2016-08-09</td>\n",
       "      <td>10.16</td>\n",
       "      <td>10.16</td>\n",
       "      <td>10.16</td>\n",
       "      <td>10.16</td>\n",
       "      <td>NaN</td>\n",
       "      <td>0.00</td>\n",
       "    </tr>\n",
       "    <tr>\n",
       "      <th>2403</th>\n",
       "      <td>2016-08-08</td>\n",
       "      <td>10.16</td>\n",
       "      <td>10.16</td>\n",
       "      <td>10.16</td>\n",
       "      <td>10.16</td>\n",
       "      <td>NaN</td>\n",
       "      <td>0.00</td>\n",
       "    </tr>\n",
       "    <tr>\n",
       "      <th>2404</th>\n",
       "      <td>2016-08-07</td>\n",
       "      <td>10.16</td>\n",
       "      <td>10.16</td>\n",
       "      <td>10.16</td>\n",
       "      <td>10.16</td>\n",
       "      <td>NaN</td>\n",
       "      <td>0.00</td>\n",
       "    </tr>\n",
       "    <tr>\n",
       "      <th>2405</th>\n",
       "      <td>2016-08-06</td>\n",
       "      <td>10.16</td>\n",
       "      <td>10.16</td>\n",
       "      <td>10.16</td>\n",
       "      <td>10.16</td>\n",
       "      <td>NaN</td>\n",
       "      <td>0.00</td>\n",
       "    </tr>\n",
       "  </tbody>\n",
       "</table>\n",
       "</div>"
      ],
      "text/plain": [
       "           date   price    open    high     low  volume percentage_change\n",
       "1928 2017-11-26  464.00  464.00  464.00  464.00     NaN              0.00\n",
       "2402 2016-08-09   10.16   10.16   10.16   10.16     NaN              0.00\n",
       "2403 2016-08-08   10.16   10.16   10.16   10.16     NaN              0.00\n",
       "2404 2016-08-07   10.16   10.16   10.16   10.16     NaN              0.00\n",
       "2405 2016-08-06   10.16   10.16   10.16   10.16     NaN              0.00"
      ]
     },
     "execution_count": 276,
     "metadata": {},
     "output_type": "execute_result"
    }
   ],
   "source": [
    "_ = df.query('volume.isnull()')\n",
    "_.head()"
   ]
  },
  {
   "cell_type": "code",
   "execution_count": 277,
   "metadata": {},
   "outputs": [],
   "source": [
    "# imputing with interpolated data ( makes assumptions based on the neighbouring non null values ).\n",
    "\n",
    "df['volume'] = df['volume'].interpolate(method='linear')\n"
   ]
  },
  {
   "cell_type": "code",
   "execution_count": 278,
   "metadata": {},
   "outputs": [],
   "source": [
    "# set date as index \n",
    "\n",
    "df = df.sort_values(by=['date'])\n",
    "df = df.set_index('date')\n",
    "\n"
   ]
  },
  {
   "attachments": {},
   "cell_type": "markdown",
   "metadata": {},
   "source": [
    "### Normalize scale "
   ]
  },
  {
   "cell_type": "code",
   "execution_count": 279,
   "metadata": {},
   "outputs": [
    {
     "data": {
      "text/html": [
       "<div>\n",
       "<style scoped>\n",
       "    .dataframe tbody tr th:only-of-type {\n",
       "        vertical-align: middle;\n",
       "    }\n",
       "\n",
       "    .dataframe tbody tr th {\n",
       "        vertical-align: top;\n",
       "    }\n",
       "\n",
       "    .dataframe thead th {\n",
       "        text-align: right;\n",
       "    }\n",
       "</style>\n",
       "<table border=\"1\" class=\"dataframe\">\n",
       "  <thead>\n",
       "    <tr style=\"text-align: right;\">\n",
       "      <th></th>\n",
       "      <th>price</th>\n",
       "      <th>open</th>\n",
       "      <th>high</th>\n",
       "      <th>low</th>\n",
       "      <th>percentage_change</th>\n",
       "      <th>volume_log</th>\n",
       "    </tr>\n",
       "    <tr>\n",
       "      <th>date</th>\n",
       "      <th></th>\n",
       "      <th></th>\n",
       "      <th></th>\n",
       "      <th></th>\n",
       "      <th></th>\n",
       "      <th></th>\n",
       "    </tr>\n",
       "  </thead>\n",
       "  <tbody>\n",
       "    <tr>\n",
       "      <th>2016-03-10</th>\n",
       "      <td>11.75</td>\n",
       "      <td>11.20</td>\n",
       "      <td>11.85</td>\n",
       "      <td>11.07</td>\n",
       "      <td>4.91</td>\n",
       "      <td>0.000000</td>\n",
       "    </tr>\n",
       "    <tr>\n",
       "      <th>2016-03-11</th>\n",
       "      <td>11.95</td>\n",
       "      <td>11.75</td>\n",
       "      <td>11.95</td>\n",
       "      <td>11.75</td>\n",
       "      <td>1.70</td>\n",
       "      <td>5.198497</td>\n",
       "    </tr>\n",
       "    <tr>\n",
       "      <th>2016-03-12</th>\n",
       "      <td>12.92</td>\n",
       "      <td>11.95</td>\n",
       "      <td>13.45</td>\n",
       "      <td>11.95</td>\n",
       "      <td>8.12</td>\n",
       "      <td>6.722630</td>\n",
       "    </tr>\n",
       "    <tr>\n",
       "      <th>2016-03-13</th>\n",
       "      <td>15.07</td>\n",
       "      <td>12.92</td>\n",
       "      <td>15.07</td>\n",
       "      <td>12.92</td>\n",
       "      <td>16.64</td>\n",
       "      <td>7.170888</td>\n",
       "    </tr>\n",
       "    <tr>\n",
       "      <th>2016-03-14</th>\n",
       "      <td>12.50</td>\n",
       "      <td>15.07</td>\n",
       "      <td>15.07</td>\n",
       "      <td>11.40</td>\n",
       "      <td>-17.05</td>\n",
       "      <td>11.431509</td>\n",
       "    </tr>\n",
       "  </tbody>\n",
       "</table>\n",
       "</div>"
      ],
      "text/plain": [
       "            price   open   high    low  percentage_change  volume_log\n",
       "date                                                                 \n",
       "2016-03-10  11.75  11.20  11.85  11.07               4.91    0.000000\n",
       "2016-03-11  11.95  11.75  11.95  11.75               1.70    5.198497\n",
       "2016-03-12  12.92  11.95  13.45  11.95               8.12    6.722630\n",
       "2016-03-13  15.07  12.92  15.07  12.92              16.64    7.170888\n",
       "2016-03-14  12.50  15.07  15.07  11.40             -17.05   11.431509"
      ]
     },
     "execution_count": 279,
     "metadata": {},
     "output_type": "execute_result"
    }
   ],
   "source": [
    "# convert numerical to float types\n",
    "\n",
    "df = [df[col].astype(float) for col in df.columns]\n",
    "df = pd.DataFrame(df).T\n",
    "\n",
    "\n",
    "# normalize volume column , + 1 to avoid zero log or negative log values. \n",
    "\n",
    "df['volume_log'] = np.log(df['volume'] + 1)\n",
    "df = df.drop(columns=['volume'])\n",
    "df.head()"
   ]
  },
  {
   "cell_type": "markdown",
   "metadata": {},
   "source": [
    "## Feature Extraction "
   ]
  },
  {
   "attachments": {},
   "cell_type": "markdown",
   "metadata": {},
   "source": [
    "### Simple Moving Average"
   ]
  },
  {
   "cell_type": "code",
   "execution_count": 282,
   "metadata": {},
   "outputs": [
    {
     "data": {
      "text/html": [
       "<div>\n",
       "<style scoped>\n",
       "    .dataframe tbody tr th:only-of-type {\n",
       "        vertical-align: middle;\n",
       "    }\n",
       "\n",
       "    .dataframe tbody tr th {\n",
       "        vertical-align: top;\n",
       "    }\n",
       "\n",
       "    .dataframe thead th {\n",
       "        text-align: right;\n",
       "    }\n",
       "</style>\n",
       "<table border=\"1\" class=\"dataframe\">\n",
       "  <thead>\n",
       "    <tr style=\"text-align: right;\">\n",
       "      <th></th>\n",
       "      <th>open</th>\n",
       "    </tr>\n",
       "    <tr>\n",
       "      <th>date</th>\n",
       "      <th></th>\n",
       "    </tr>\n",
       "  </thead>\n",
       "  <tbody>\n",
       "    <tr>\n",
       "      <th>2016-03-10</th>\n",
       "      <td>11.20</td>\n",
       "    </tr>\n",
       "    <tr>\n",
       "      <th>2016-03-11</th>\n",
       "      <td>11.75</td>\n",
       "    </tr>\n",
       "    <tr>\n",
       "      <th>2016-03-12</th>\n",
       "      <td>11.95</td>\n",
       "    </tr>\n",
       "  </tbody>\n",
       "</table>\n",
       "</div>"
      ],
      "text/plain": [
       "             open\n",
       "date             \n",
       "2016-03-10  11.20\n",
       "2016-03-11  11.75\n",
       "2016-03-12  11.95"
      ]
     },
     "execution_count": 282,
     "metadata": {},
     "output_type": "execute_result"
    }
   ],
   "source": [
    "## sampling a subset , for calculating  moving average \n",
    "\n",
    "df_open = df['2016-01': '2016-03'][['open']]\n",
    "\n",
    "df_open.head(3)"
   ]
  },
  {
   "cell_type": "code",
   "execution_count": 284,
   "metadata": {},
   "outputs": [
    {
     "data": {
      "text/html": [
       "<div>\n",
       "<style scoped>\n",
       "    .dataframe tbody tr th:only-of-type {\n",
       "        vertical-align: middle;\n",
       "    }\n",
       "\n",
       "    .dataframe tbody tr th {\n",
       "        vertical-align: top;\n",
       "    }\n",
       "\n",
       "    .dataframe thead th {\n",
       "        text-align: right;\n",
       "    }\n",
       "</style>\n",
       "<table border=\"1\" class=\"dataframe\">\n",
       "  <thead>\n",
       "    <tr style=\"text-align: right;\">\n",
       "      <th></th>\n",
       "      <th>open</th>\n",
       "      <th>open_sma</th>\n",
       "    </tr>\n",
       "    <tr>\n",
       "      <th>date</th>\n",
       "      <th></th>\n",
       "      <th></th>\n",
       "    </tr>\n",
       "  </thead>\n",
       "  <tbody>\n",
       "    <tr>\n",
       "      <th>2016-03-10</th>\n",
       "      <td>11.20</td>\n",
       "      <td>NaN</td>\n",
       "    </tr>\n",
       "    <tr>\n",
       "      <th>2016-03-11</th>\n",
       "      <td>11.75</td>\n",
       "      <td>NaN</td>\n",
       "    </tr>\n",
       "    <tr>\n",
       "      <th>2016-03-12</th>\n",
       "      <td>11.95</td>\n",
       "      <td>11.633333</td>\n",
       "    </tr>\n",
       "    <tr>\n",
       "      <th>2016-03-13</th>\n",
       "      <td>12.92</td>\n",
       "      <td>12.206667</td>\n",
       "    </tr>\n",
       "    <tr>\n",
       "      <th>2016-03-14</th>\n",
       "      <td>15.07</td>\n",
       "      <td>13.313333</td>\n",
       "    </tr>\n",
       "  </tbody>\n",
       "</table>\n",
       "</div>"
      ],
      "text/plain": [
       "             open   open_sma\n",
       "date                        \n",
       "2016-03-10  11.20        NaN\n",
       "2016-03-11  11.75        NaN\n",
       "2016-03-12  11.95  11.633333\n",
       "2016-03-13  12.92  12.206667\n",
       "2016-03-14  15.07  13.313333"
      ]
     },
     "execution_count": 284,
     "metadata": {},
     "output_type": "execute_result"
    }
   ],
   "source": [
    "df_open['open_sma'] = df_open['open'].rolling(window=3).mean()\n",
    "df_open.head()"
   ]
  },
  {
   "cell_type": "code",
   "execution_count": 285,
   "metadata": {},
   "outputs": [
    {
     "data": {
      "image/png": "[encoded data removed]",
      "text/plain": [
       "<Figure size 1000x600 with 1 Axes>"
      ]
     },
     "metadata": {},
     "output_type": "display_data"
    }
   ],
   "source": [
    "# line distribution: Viewing trends of the open market price of the stocks on Ethereum\n",
    "fig, ax = plt.subplots(figsize=(10, 6))\n",
    "\n",
    "# Plot 'open' and 'open_sma' columns on the same axis\n",
    "ax.plot(df_open.index, df_open['open'], label='Open')\n",
    "ax.plot(df_open.index, df_open['open_sma'], label='Open SMA')\n",
    "\n",
    "# Set plot title, x-axis label, and legend\n",
    "ax.set_title('Open Market Price of Stocks on Ethereum')\n",
    "ax.set_xlabel('Date')\n",
    "ax.legend()\n",
    "\n",
    "# Show the plot\n",
    "plt.show()\n",
    "\n",
    "\n",
    "\n"
   ]
  },
  {
   "attachments": {},
   "cell_type": "markdown",
   "metadata": {},
   "source": [
    "### weighted Moving Average"
   ]
  },
  {
   "cell_type": "code",
   "execution_count": 287,
   "metadata": {},
   "outputs": [],
   "source": [
    "# weighted moving average\n",
    "\n",
    "def wma(weights):\n",
    "    def calc(x):\n",
    "        return (weights*x).mean()\n",
    "    return calc\n",
    "\n",
    "df_open['open_wma'] = df_open['open'].rolling(window=3).apply(wma(np.array([0.5, 1, 1.5]))).shift(1)\n"
   ]
  },
  {
   "cell_type": "code",
   "execution_count": 290,
   "metadata": {},
   "outputs": [
    {
     "data": {
      "image/png": "[encoded data removed]",
      "text/plain": [
       "<Figure size 1000x600 with 1 Axes>"
      ]
     },
     "metadata": {},
     "output_type": "display_data"
    }
   ],
   "source": [
    "# Line Distirbution of Trends in Stock price on Etherum\n",
    "\n",
    "fig, ax = plt.subplots(figsize=(10, 6))\n",
    "\n",
    "# Plot 'open' and 'open_sma' columns on the same axis\n",
    "ax.plot(df_open.index, df_open['open'], label='Open')\n",
    "ax.plot(df_open.index, df_open['open_sma'], label='Open Simple MA')\n",
    "\n",
    "ax.plot(df_open.index, df_open['open_wma'], label='Open Weighted MA')\n",
    "\n",
    "# Set plot title, x-axis label, and legend\n",
    "ax.set_title('Open Market Price trend of stocks on Ethereum')\n",
    "ax.set_xlabel('Date')\n",
    "ax.legend()\n",
    "\n",
    "# Show the plot\n",
    "plt.show()\n"
   ]
  },
  {
   "attachments": {},
   "cell_type": "markdown",
   "metadata": {},
   "source": [
    "### Exponential moving average "
   ]
  },
  {
   "cell_type": "code",
   "execution_count": 291,
   "metadata": {},
   "outputs": [],
   "source": [
    "\n",
    "df_open['open_ema'] = df_open['open'].ewm(alpha=0.7, adjust=False, min_periods=3).mean().shift(1)\n"
   ]
  },
  {
   "cell_type": "code",
   "execution_count": 293,
   "metadata": {},
   "outputs": [
    {
     "data": {
      "image/png": "[encoded data removed]",
      "text/plain": [
       "<Figure size 1000x600 with 1 Axes>"
      ]
     },
     "metadata": {},
     "output_type": "display_data"
    }
   ],
   "source": [
    "# line distribution \n",
    "fig, ax = plt.subplots(figsize=(10, 6))\n",
    "\n",
    "# Plot 'open' and 'open_sma' columns on the same axis\n",
    "ax.plot(df_open.index, df_open['open'], label='Open')\n",
    "# ax.plot(df_open.index, df_open['open_sma'], label='Open SMA')\n",
    "\n",
    "\n",
    "# ax.plot(df_open.index, df_open['open_wma'], label='Open WMA')\n",
    "ax.plot(df_open.index, df_open['open_ema'], label='Open Exponential MA')\n",
    "# Set plot title, x-axis label, and legend\n",
    "ax.set_title('Open Market Price of Stocks on Ethereum')\n",
    "ax.set_xlabel('Date')\n",
    "ax.legend()\n",
    "\n",
    "# Show the plot\n",
    "plt.show()\n"
   ]
  },
  {
   "attachments": {},
   "cell_type": "markdown",
   "metadata": {},
   "source": [
    "### Observations On Moving Averages : \n",
    "1. exponential moving average, seems to be suitable ,as the changes in the opening price is frequent, hence the exponetial moving average is best suited as it considered these drastic shifts in preditcor values."
   ]
  },
  {
   "attachments": {},
   "cell_type": "markdown",
   "metadata": {},
   "source": [
    "### define a utility function: Feature Extractor "
   ]
  },
  {
   "cell_type": "code",
   "execution_count": 295,
   "metadata": {},
   "outputs": [],
   "source": [
    "def feature_extractor(df, predictors, alpha=0.7):\n",
    "    for column in predictors:\n",
    "        df[column+\"_ema\"] = df[column].ewm(alpha=alpha, adjust=False, min_periods=3).mean().shift(1)\n",
    "    return df"
   ]
  },
  {
   "attachments": {},
   "cell_type": "markdown",
   "metadata": {},
   "source": [
    "## Feature Extraction Results "
   ]
  },
  {
   "cell_type": "code",
   "execution_count": 296,
   "metadata": {},
   "outputs": [
    {
     "data": {
      "text/html": [
       "<div>\n",
       "<style scoped>\n",
       "    .dataframe tbody tr th:only-of-type {\n",
       "        vertical-align: middle;\n",
       "    }\n",
       "\n",
       "    .dataframe tbody tr th {\n",
       "        vertical-align: top;\n",
       "    }\n",
       "\n",
       "    .dataframe thead th {\n",
       "        text-align: right;\n",
       "    }\n",
       "</style>\n",
       "<table border=\"1\" class=\"dataframe\">\n",
       "  <thead>\n",
       "    <tr style=\"text-align: right;\">\n",
       "      <th></th>\n",
       "      <th>price</th>\n",
       "      <th>open</th>\n",
       "      <th>high</th>\n",
       "      <th>low</th>\n",
       "      <th>percentage_change</th>\n",
       "      <th>volume_log</th>\n",
       "      <th>price_ema</th>\n",
       "      <th>open_ema</th>\n",
       "      <th>high_ema</th>\n",
       "      <th>low_ema</th>\n",
       "      <th>volume_log_ema</th>\n",
       "    </tr>\n",
       "    <tr>\n",
       "      <th>date</th>\n",
       "      <th></th>\n",
       "      <th></th>\n",
       "      <th></th>\n",
       "      <th></th>\n",
       "      <th></th>\n",
       "      <th></th>\n",
       "      <th></th>\n",
       "      <th></th>\n",
       "      <th></th>\n",
       "      <th></th>\n",
       "      <th></th>\n",
       "    </tr>\n",
       "  </thead>\n",
       "  <tbody>\n",
       "    <tr>\n",
       "      <th>2016-03-10</th>\n",
       "      <td>11.75</td>\n",
       "      <td>11.20</td>\n",
       "      <td>11.85</td>\n",
       "      <td>11.07</td>\n",
       "      <td>4.91</td>\n",
       "      <td>0.000000</td>\n",
       "      <td>NaN</td>\n",
       "      <td>NaN</td>\n",
       "      <td>NaN</td>\n",
       "      <td>NaN</td>\n",
       "      <td>NaN</td>\n",
       "    </tr>\n",
       "    <tr>\n",
       "      <th>2016-03-11</th>\n",
       "      <td>11.95</td>\n",
       "      <td>11.75</td>\n",
       "      <td>11.95</td>\n",
       "      <td>11.75</td>\n",
       "      <td>1.70</td>\n",
       "      <td>5.198497</td>\n",
       "      <td>NaN</td>\n",
       "      <td>NaN</td>\n",
       "      <td>NaN</td>\n",
       "      <td>NaN</td>\n",
       "      <td>NaN</td>\n",
       "    </tr>\n",
       "    <tr>\n",
       "      <th>2016-03-12</th>\n",
       "      <td>12.92</td>\n",
       "      <td>11.95</td>\n",
       "      <td>13.45</td>\n",
       "      <td>11.95</td>\n",
       "      <td>8.12</td>\n",
       "      <td>6.722630</td>\n",
       "      <td>NaN</td>\n",
       "      <td>NaN</td>\n",
       "      <td>NaN</td>\n",
       "      <td>NaN</td>\n",
       "      <td>NaN</td>\n",
       "    </tr>\n",
       "    <tr>\n",
       "      <th>2016-03-13</th>\n",
       "      <td>15.07</td>\n",
       "      <td>12.92</td>\n",
       "      <td>15.07</td>\n",
       "      <td>12.92</td>\n",
       "      <td>16.64</td>\n",
       "      <td>7.170888</td>\n",
       "      <td>12.6110</td>\n",
       "      <td>11.84050</td>\n",
       "      <td>12.9910</td>\n",
       "      <td>11.82880</td>\n",
       "      <td>5.797525</td>\n",
       "    </tr>\n",
       "    <tr>\n",
       "      <th>2016-03-14</th>\n",
       "      <td>12.50</td>\n",
       "      <td>15.07</td>\n",
       "      <td>15.07</td>\n",
       "      <td>11.40</td>\n",
       "      <td>-17.05</td>\n",
       "      <td>11.431509</td>\n",
       "      <td>14.3323</td>\n",
       "      <td>12.59615</td>\n",
       "      <td>14.4463</td>\n",
       "      <td>12.59264</td>\n",
       "      <td>6.758880</td>\n",
       "    </tr>\n",
       "  </tbody>\n",
       "</table>\n",
       "</div>"
      ],
      "text/plain": [
       "            price   open   high    low  percentage_change  volume_log  \\\n",
       "date                                                                    \n",
       "2016-03-10  11.75  11.20  11.85  11.07               4.91    0.000000   \n",
       "2016-03-11  11.95  11.75  11.95  11.75               1.70    5.198497   \n",
       "2016-03-12  12.92  11.95  13.45  11.95               8.12    6.722630   \n",
       "2016-03-13  15.07  12.92  15.07  12.92              16.64    7.170888   \n",
       "2016-03-14  12.50  15.07  15.07  11.40             -17.05   11.431509   \n",
       "\n",
       "            price_ema  open_ema  high_ema   low_ema  volume_log_ema  \n",
       "date                                                                 \n",
       "2016-03-10        NaN       NaN       NaN       NaN             NaN  \n",
       "2016-03-11        NaN       NaN       NaN       NaN             NaN  \n",
       "2016-03-12        NaN       NaN       NaN       NaN             NaN  \n",
       "2016-03-13    12.6110  11.84050   12.9910  11.82880        5.797525  \n",
       "2016-03-14    14.3323  12.59615   14.4463  12.59264        6.758880  "
      ]
     },
     "execution_count": 296,
     "metadata": {},
     "output_type": "execute_result"
    }
   ],
   "source": [
    "target = 'percentage_change'\n",
    "predictors = list(df.columns)\n",
    "\n",
    "predictors.remove(target)\n",
    "\n",
    "\n",
    "df  = feature_extractor(df, predictors=predictors)\n",
    "\n",
    "df.head()"
   ]
  },
  {
   "attachments": {},
   "cell_type": "markdown",
   "metadata": {},
   "source": [
    "## Train, Test split for Predictive Analysis"
   ]
  },
  {
   "cell_type": "code",
   "execution_count": 297,
   "metadata": {},
   "outputs": [],
   "source": [
    "# train , test split \n",
    "\n",
    "X = df[predictors]\n",
    "y = df[target]\n",
    "\n",
    "# Perform time-based train-test split\n",
    "train_size = int(len(df) * 0.8)  # 80% for training\n",
    "X_train, X_test = X[:train_size], X[train_size:]\n",
    "y_train, y_test = y[:train_size], y[train_size:]"
   ]
  },
  {
   "attachments": {},
   "cell_type": "markdown",
   "metadata": {},
   "source": [
    "## Save pre-processed Data"
   ]
  },
  {
   "cell_type": "code",
   "execution_count": 298,
   "metadata": {},
   "outputs": [],
   "source": [
    "X_train.to_parquet('X_train_ethereum.parquet', index=False)\n",
    "df.to_parquet('X_test_ethereum.parquet', index=False)\n",
    "df.to_parquet('y_train_ethereum.parquet', index=False)\n",
    "df.to_parquet('y_train_ethereum.parquet', index=False)"
   ]
  }
 ],
 "metadata": {
  "kernelspec": {
   "display_name": "base",
   "language": "python",
   "name": "python3"
  },
  "language_info": {
   "codemirror_mode": {
    "name": "ipython",
    "version": 3
   },
   "file_extension": ".py",
   "mimetype": "text/x-python",
   "name": "python",
   "nbconvert_exporter": "python",
   "pygments_lexer": "ipython3",
   "version": "3.9.12"
  },
  "orig_nbformat": 4
 },
 "nbformat": 4,
 "nbformat_minor": 2
}
