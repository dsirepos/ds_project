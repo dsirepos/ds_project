{
 "cells": [
  {
   "attachments": {},
   "cell_type": "markdown",
   "metadata": {},
   "source": [
    "# source: [Ethereum Historical data](https://www.kaggle.com/datasets/themrityunjaypathak/ethereum-historical-data)"
   ]
  },
  {
   "attachments": {},
   "cell_type": "markdown",
   "metadata": {},
   "source": [
    "### Lib imports "
   ]
  },
  {
   "cell_type": "code",
   "execution_count": 31,
   "metadata": {},
   "outputs": [],
   "source": [
    "import math # Mathematical functions \n",
    "import numpy as np # Fundamental package for scientific computing with Python\n",
    "import pandas as pd # Additional functions for analysing and manipulating data\n",
    "from pandas.plotting import register_matplotlib_converters # This function adds plotting functions for calender dates\n",
    "import matplotlib.pyplot as plt # Important package for visualization - we use this to plot the market data\n",
    "import matplotlib.dates as mdates # Formatting dates\n",
    "\n",
    "from datetime import date, timedelta, datetime # Date Functions\n",
    "\n",
    "import tensorflow as tf \n",
    "from tensorflow.keras import Sequential # Deep learning library, used for neural networks\n",
    "from tensorflow.keras.layers import LSTM, Dense, Dropout, SimpleRNN, GRU # Deep learning classes for recurrent and regular densely-connected layers\n",
    "from tensorflow.keras.callbacks import EarlyStopping # EarlyStopping during model training\n",
    "\n",
    "from sklearn.metrics import mean_absolute_error, mean_squared_error # Packages for measuring model performance / errors\n",
    "from sklearn.preprocessing import RobustScaler, MinMaxScaler # This Scaler removes the median and scales the data according to the quantile range to normalize the price data \n",
    "\n",
    "import seaborn as sns # Visualization\n",
    "sns.set_style('white', { 'axes.spines.right': False, 'axes.spines.top': False})\n",
    "\n",
    "\n",
    "# for reproducibility; set the following seeds (note, that the results may still vary slightly. Also, the stock data is is up to the latest date, so the results may vary slightly over time)\n",
    "np.random.seed(1)\n",
    "tf.random.set_seed(1)"
   ]
  },
  {
   "attachments": {},
   "cell_type": "markdown",
   "metadata": {},
   "source": [
    "## Load source data: [source link](https://www.kaggle.com/datasets/themrityunjaypathak/ethereum-historical-data)"
   ]
  },
  {
   "cell_type": "code",
   "execution_count": 32,
   "metadata": {},
   "outputs": [],
   "source": [
    "url = f\"https://raw.githubusercontent.com/dsirepos/data/main/ethereum_price.csv\"\n",
    "df = pd.read_csv(url)"
   ]
  },
  {
   "cell_type": "code",
   "execution_count": 33,
   "metadata": {},
   "outputs": [
    {
     "name": "stdout",
     "output_type": "stream",
     "text": [
      "<class 'pandas.core.frame.DataFrame'>\n",
      "RangeIndex: 2555 entries, 0 to 2554\n",
      "Data columns (total 7 columns):\n",
      " #   Column    Non-Null Count  Dtype \n",
      "---  ------    --------------  ----- \n",
      " 0   Date      2555 non-null   object\n",
      " 1   Price     2555 non-null   object\n",
      " 2   Open      2555 non-null   object\n",
      " 3   High      2555 non-null   object\n",
      " 4   Low       2555 non-null   object\n",
      " 5   Vol.      2555 non-null   object\n",
      " 6   Change %  2555 non-null   object\n",
      "dtypes: object(7)\n",
      "memory usage: 139.9+ KB\n"
     ]
    }
   ],
   "source": [
    "# info about data \n",
    "\n",
    "df.info()"
   ]
  },
  {
   "attachments": {},
   "cell_type": "markdown",
   "metadata": {},
   "source": [
    "## Data Pre-processing "
   ]
  },
  {
   "cell_type": "code",
   "execution_count": 35,
   "metadata": {},
   "outputs": [
    {
     "data": {
      "text/plain": [
       "Index(['date', 'price', 'open', 'high', 'low', 'volume', 'percentage_change'], dtype='object')"
      ]
     },
     "execution_count": 35,
     "metadata": {},
     "output_type": "execute_result"
    }
   ],
   "source": [
    "# column name Fix  : vol. , change %\n",
    "\n",
    "df.columns= [x.lower().strip().replace(' ', '_') for x in df.columns]\n",
    "\n",
    "df = df.rename(columns={'vol.' : 'volume', \"change_%\" : \"percentage_change\"})\n",
    "df.columns"
   ]
  },
  {
   "cell_type": "code",
   "execution_count": 36,
   "metadata": {},
   "outputs": [
    {
     "data": {
      "text/html": [
       "<div>\n",
       "<style scoped>\n",
       "    .dataframe tbody tr th:only-of-type {\n",
       "        vertical-align: middle;\n",
       "    }\n",
       "\n",
       "    .dataframe tbody tr th {\n",
       "        vertical-align: top;\n",
       "    }\n",
       "\n",
       "    .dataframe thead th {\n",
       "        text-align: right;\n",
       "    }\n",
       "</style>\n",
       "<table border=\"1\" class=\"dataframe\">\n",
       "  <thead>\n",
       "    <tr style=\"text-align: right;\">\n",
       "      <th></th>\n",
       "      <th>date</th>\n",
       "      <th>price</th>\n",
       "      <th>open</th>\n",
       "      <th>high</th>\n",
       "      <th>low</th>\n",
       "      <th>volume</th>\n",
       "      <th>percentage_change</th>\n",
       "    </tr>\n",
       "  </thead>\n",
       "  <tbody>\n",
       "    <tr>\n",
       "      <th>0</th>\n",
       "      <td>2023-03-08</td>\n",
       "      <td>1,553.49</td>\n",
       "      <td>1,561.79</td>\n",
       "      <td>1,569.70</td>\n",
       "      <td>1,548.98</td>\n",
       "      <td>498.57K</td>\n",
       "      <td>-0.53%</td>\n",
       "    </tr>\n",
       "    <tr>\n",
       "      <th>1</th>\n",
       "      <td>2023-03-07</td>\n",
       "      <td>1,561.78</td>\n",
       "      <td>1,565.84</td>\n",
       "      <td>1,580.95</td>\n",
       "      <td>1,536.31</td>\n",
       "      <td>460.10K</td>\n",
       "      <td>-0.26%</td>\n",
       "    </tr>\n",
       "    <tr>\n",
       "      <th>2</th>\n",
       "      <td>2023-03-06</td>\n",
       "      <td>1,565.84</td>\n",
       "      <td>1,564.36</td>\n",
       "      <td>1,581.13</td>\n",
       "      <td>1,555.43</td>\n",
       "      <td>322.16K</td>\n",
       "      <td>0.09%</td>\n",
       "    </tr>\n",
       "    <tr>\n",
       "      <th>3</th>\n",
       "      <td>2023-03-05</td>\n",
       "      <td>1,564.37</td>\n",
       "      <td>1,566.73</td>\n",
       "      <td>1,587.95</td>\n",
       "      <td>1,556.84</td>\n",
       "      <td>313.01K</td>\n",
       "      <td>-0.15%</td>\n",
       "    </tr>\n",
       "    <tr>\n",
       "      <th>4</th>\n",
       "      <td>2023-03-04</td>\n",
       "      <td>1,566.73</td>\n",
       "      <td>1,569.45</td>\n",
       "      <td>1,577.02</td>\n",
       "      <td>1,550.10</td>\n",
       "      <td>247.02K</td>\n",
       "      <td>-0.14%</td>\n",
       "    </tr>\n",
       "  </tbody>\n",
       "</table>\n",
       "</div>"
      ],
      "text/plain": [
       "        date     price      open      high       low   volume  \\\n",
       "0 2023-03-08  1,553.49  1,561.79  1,569.70  1,548.98  498.57K   \n",
       "1 2023-03-07  1,561.78  1,565.84  1,580.95  1,536.31  460.10K   \n",
       "2 2023-03-06  1,565.84  1,564.36  1,581.13  1,555.43  322.16K   \n",
       "3 2023-03-05  1,564.37  1,566.73  1,587.95  1,556.84  313.01K   \n",
       "4 2023-03-04  1,566.73  1,569.45  1,577.02  1,550.10  247.02K   \n",
       "\n",
       "  percentage_change  \n",
       "0            -0.53%  \n",
       "1            -0.26%  \n",
       "2             0.09%  \n",
       "3            -0.15%  \n",
       "4            -0.14%  "
      ]
     },
     "execution_count": 36,
     "metadata": {},
     "output_type": "execute_result"
    }
   ],
   "source": [
    "# dype change \n",
    "\n",
    "df['date'] = pd.to_datetime(df.date)\n",
    "\n",
    "df.head()"
   ]
  },
  {
   "cell_type": "code",
   "execution_count": 37,
   "metadata": {},
   "outputs": [
    {
     "data": {
      "text/html": [
       "<div>\n",
       "<style scoped>\n",
       "    .dataframe tbody tr th:only-of-type {\n",
       "        vertical-align: middle;\n",
       "    }\n",
       "\n",
       "    .dataframe tbody tr th {\n",
       "        vertical-align: top;\n",
       "    }\n",
       "\n",
       "    .dataframe thead th {\n",
       "        text-align: right;\n",
       "    }\n",
       "</style>\n",
       "<table border=\"1\" class=\"dataframe\">\n",
       "  <thead>\n",
       "    <tr style=\"text-align: right;\">\n",
       "      <th></th>\n",
       "      <th>date</th>\n",
       "      <th>price</th>\n",
       "      <th>open</th>\n",
       "      <th>high</th>\n",
       "      <th>low</th>\n",
       "      <th>volume</th>\n",
       "      <th>percentage_change</th>\n",
       "    </tr>\n",
       "  </thead>\n",
       "  <tbody>\n",
       "    <tr>\n",
       "      <th>0</th>\n",
       "      <td>2023-03-08</td>\n",
       "      <td>1553.49</td>\n",
       "      <td>1561.79</td>\n",
       "      <td>1569.70</td>\n",
       "      <td>1548.98</td>\n",
       "      <td>498570.0</td>\n",
       "      <td>-0.53</td>\n",
       "    </tr>\n",
       "    <tr>\n",
       "      <th>1</th>\n",
       "      <td>2023-03-07</td>\n",
       "      <td>1561.78</td>\n",
       "      <td>1565.84</td>\n",
       "      <td>1580.95</td>\n",
       "      <td>1536.31</td>\n",
       "      <td>460100.0</td>\n",
       "      <td>-0.26</td>\n",
       "    </tr>\n",
       "    <tr>\n",
       "      <th>2</th>\n",
       "      <td>2023-03-06</td>\n",
       "      <td>1565.84</td>\n",
       "      <td>1564.36</td>\n",
       "      <td>1581.13</td>\n",
       "      <td>1555.43</td>\n",
       "      <td>322160.0</td>\n",
       "      <td>0.09</td>\n",
       "    </tr>\n",
       "    <tr>\n",
       "      <th>3</th>\n",
       "      <td>2023-03-05</td>\n",
       "      <td>1564.37</td>\n",
       "      <td>1566.73</td>\n",
       "      <td>1587.95</td>\n",
       "      <td>1556.84</td>\n",
       "      <td>313010.0</td>\n",
       "      <td>-0.15</td>\n",
       "    </tr>\n",
       "    <tr>\n",
       "      <th>4</th>\n",
       "      <td>2023-03-04</td>\n",
       "      <td>1566.73</td>\n",
       "      <td>1569.45</td>\n",
       "      <td>1577.02</td>\n",
       "      <td>1550.10</td>\n",
       "      <td>247020.0</td>\n",
       "      <td>-0.14</td>\n",
       "    </tr>\n",
       "  </tbody>\n",
       "</table>\n",
       "</div>"
      ],
      "text/plain": [
       "        date    price     open     high      low    volume percentage_change\n",
       "0 2023-03-08  1553.49  1561.79  1569.70  1548.98  498570.0             -0.53\n",
       "1 2023-03-07  1561.78  1565.84  1580.95  1536.31  460100.0             -0.26\n",
       "2 2023-03-06  1565.84  1564.36  1581.13  1555.43  322160.0              0.09\n",
       "3 2023-03-05  1564.37  1566.73  1587.95  1556.84  313010.0             -0.15\n",
       "4 2023-03-04  1566.73  1569.45  1577.02  1550.10  247020.0             -0.14"
      ]
     },
     "execution_count": 37,
     "metadata": {},
     "output_type": "execute_result"
    }
   ],
   "source": [
    "df['price'] = df['price'].str.replace(',' , '')\n",
    "df['open'] = df['open'].str.replace(',', '')\n",
    "df['high'] = df['high'].str.replace(',', '')\n",
    "df['low'] = df['low'].str.replace(',', '')\n",
    "\n",
    "df['percentage_change'] = df['percentage_change'].str.replace('%', '')\n",
    "\n",
    "def normalize_volume(vol):\n",
    "    if vol[-1] == 'K':\n",
    "        return float(vol[:-1]) * 1000\n",
    "    elif vol[-1] == 'M':\n",
    "        return float(vol[:-1]) * 1_000_000\n",
    "    elif vol[-1] == 'B':\n",
    "        return float(vol[:-1]) * 1_000_000_000\n",
    "    elif vol == '-':\n",
    "        return np.NaN\n",
    "    else:\n",
    "        return float(vol)\n",
    "\n",
    "\n",
    "df['volume'] = df['volume'].apply(normalize_volume)\n",
    "\n",
    "\n",
    "\n",
    "df.head()"
   ]
  },
  {
   "cell_type": "code",
   "execution_count": 38,
   "metadata": {},
   "outputs": [
    {
     "data": {
      "text/plain": [
       "date     0\n",
       "price    0\n",
       "open     0\n",
       "high     0\n",
       "low      0\n",
       "dtype: int64"
      ]
     },
     "execution_count": 38,
     "metadata": {},
     "output_type": "execute_result"
    }
   ],
   "source": [
    "_ = df.isna().sum()\n",
    "_.head()"
   ]
  },
  {
   "attachments": {},
   "cell_type": "markdown",
   "metadata": {},
   "source": [
    "## Missing data"
   ]
  },
  {
   "cell_type": "code",
   "execution_count": 39,
   "metadata": {},
   "outputs": [
    {
     "data": {
      "text/html": [
       "<div>\n",
       "<style scoped>\n",
       "    .dataframe tbody tr th:only-of-type {\n",
       "        vertical-align: middle;\n",
       "    }\n",
       "\n",
       "    .dataframe tbody tr th {\n",
       "        vertical-align: top;\n",
       "    }\n",
       "\n",
       "    .dataframe thead th {\n",
       "        text-align: right;\n",
       "    }\n",
       "</style>\n",
       "<table border=\"1\" class=\"dataframe\">\n",
       "  <thead>\n",
       "    <tr style=\"text-align: right;\">\n",
       "      <th></th>\n",
       "      <th>date</th>\n",
       "      <th>price</th>\n",
       "      <th>open</th>\n",
       "      <th>high</th>\n",
       "      <th>low</th>\n",
       "      <th>volume</th>\n",
       "      <th>percentage_change</th>\n",
       "    </tr>\n",
       "  </thead>\n",
       "  <tbody>\n",
       "    <tr>\n",
       "      <th>1928</th>\n",
       "      <td>2017-11-26</td>\n",
       "      <td>464.00</td>\n",
       "      <td>464.00</td>\n",
       "      <td>464.00</td>\n",
       "      <td>464.00</td>\n",
       "      <td>NaN</td>\n",
       "      <td>0.00</td>\n",
       "    </tr>\n",
       "    <tr>\n",
       "      <th>2402</th>\n",
       "      <td>2016-08-09</td>\n",
       "      <td>10.16</td>\n",
       "      <td>10.16</td>\n",
       "      <td>10.16</td>\n",
       "      <td>10.16</td>\n",
       "      <td>NaN</td>\n",
       "      <td>0.00</td>\n",
       "    </tr>\n",
       "    <tr>\n",
       "      <th>2403</th>\n",
       "      <td>2016-08-08</td>\n",
       "      <td>10.16</td>\n",
       "      <td>10.16</td>\n",
       "      <td>10.16</td>\n",
       "      <td>10.16</td>\n",
       "      <td>NaN</td>\n",
       "      <td>0.00</td>\n",
       "    </tr>\n",
       "    <tr>\n",
       "      <th>2404</th>\n",
       "      <td>2016-08-07</td>\n",
       "      <td>10.16</td>\n",
       "      <td>10.16</td>\n",
       "      <td>10.16</td>\n",
       "      <td>10.16</td>\n",
       "      <td>NaN</td>\n",
       "      <td>0.00</td>\n",
       "    </tr>\n",
       "    <tr>\n",
       "      <th>2405</th>\n",
       "      <td>2016-08-06</td>\n",
       "      <td>10.16</td>\n",
       "      <td>10.16</td>\n",
       "      <td>10.16</td>\n",
       "      <td>10.16</td>\n",
       "      <td>NaN</td>\n",
       "      <td>0.00</td>\n",
       "    </tr>\n",
       "  </tbody>\n",
       "</table>\n",
       "</div>"
      ],
      "text/plain": [
       "           date   price    open    high     low  volume percentage_change\n",
       "1928 2017-11-26  464.00  464.00  464.00  464.00     NaN              0.00\n",
       "2402 2016-08-09   10.16   10.16   10.16   10.16     NaN              0.00\n",
       "2403 2016-08-08   10.16   10.16   10.16   10.16     NaN              0.00\n",
       "2404 2016-08-07   10.16   10.16   10.16   10.16     NaN              0.00\n",
       "2405 2016-08-06   10.16   10.16   10.16   10.16     NaN              0.00"
      ]
     },
     "execution_count": 39,
     "metadata": {},
     "output_type": "execute_result"
    }
   ],
   "source": [
    "_ = df.query('volume.isnull()')\n",
    "_.head()"
   ]
  },
  {
   "cell_type": "code",
   "execution_count": 40,
   "metadata": {},
   "outputs": [],
   "source": [
    "# imputing with interpolated data ( makes assumptions based on the neighbouring non null values ).\n",
    "\n",
    "df['volume'] = df['volume'].interpolate(method='linear')\n"
   ]
  },
  {
   "cell_type": "code",
   "execution_count": 41,
   "metadata": {},
   "outputs": [],
   "source": [
    "# set date as index \n",
    "\n",
    "df = df.sort_values(by=['date'])\n",
    "df = df.set_index('date')\n",
    "\n"
   ]
  },
  {
   "cell_type": "code",
   "execution_count": 42,
   "metadata": {},
   "outputs": [
    {
     "data": {
      "text/html": [
       "<div>\n",
       "<style scoped>\n",
       "    .dataframe tbody tr th:only-of-type {\n",
       "        vertical-align: middle;\n",
       "    }\n",
       "\n",
       "    .dataframe tbody tr th {\n",
       "        vertical-align: top;\n",
       "    }\n",
       "\n",
       "    .dataframe thead th {\n",
       "        text-align: right;\n",
       "    }\n",
       "</style>\n",
       "<table border=\"1\" class=\"dataframe\">\n",
       "  <thead>\n",
       "    <tr style=\"text-align: right;\">\n",
       "      <th></th>\n",
       "      <th>price</th>\n",
       "      <th>open</th>\n",
       "      <th>high</th>\n",
       "      <th>low</th>\n",
       "      <th>volume</th>\n",
       "      <th>percentage_change</th>\n",
       "    </tr>\n",
       "    <tr>\n",
       "      <th>date</th>\n",
       "      <th></th>\n",
       "      <th></th>\n",
       "      <th></th>\n",
       "      <th></th>\n",
       "      <th></th>\n",
       "      <th></th>\n",
       "    </tr>\n",
       "  </thead>\n",
       "  <tbody>\n",
       "    <tr>\n",
       "      <th>2016-03-10</th>\n",
       "      <td>11.75</td>\n",
       "      <td>11.20</td>\n",
       "      <td>11.85</td>\n",
       "      <td>11.07</td>\n",
       "      <td>0.0</td>\n",
       "      <td>4.91</td>\n",
       "    </tr>\n",
       "    <tr>\n",
       "      <th>2016-03-11</th>\n",
       "      <td>11.95</td>\n",
       "      <td>11.75</td>\n",
       "      <td>11.95</td>\n",
       "      <td>11.75</td>\n",
       "      <td>180.0</td>\n",
       "      <td>1.70</td>\n",
       "    </tr>\n",
       "    <tr>\n",
       "      <th>2016-03-12</th>\n",
       "      <td>12.92</td>\n",
       "      <td>11.95</td>\n",
       "      <td>13.45</td>\n",
       "      <td>11.95</td>\n",
       "      <td>830.0</td>\n",
       "      <td>8.12</td>\n",
       "    </tr>\n",
       "    <tr>\n",
       "      <th>2016-03-13</th>\n",
       "      <td>15.07</td>\n",
       "      <td>12.92</td>\n",
       "      <td>15.07</td>\n",
       "      <td>12.92</td>\n",
       "      <td>1300.0</td>\n",
       "      <td>16.64</td>\n",
       "    </tr>\n",
       "    <tr>\n",
       "      <th>2016-03-14</th>\n",
       "      <td>12.50</td>\n",
       "      <td>15.07</td>\n",
       "      <td>15.07</td>\n",
       "      <td>11.40</td>\n",
       "      <td>92180.0</td>\n",
       "      <td>-17.05</td>\n",
       "    </tr>\n",
       "  </tbody>\n",
       "</table>\n",
       "</div>"
      ],
      "text/plain": [
       "            price   open   high    low   volume percentage_change\n",
       "date                                                             \n",
       "2016-03-10  11.75  11.20  11.85  11.07      0.0              4.91\n",
       "2016-03-11  11.95  11.75  11.95  11.75    180.0              1.70\n",
       "2016-03-12  12.92  11.95  13.45  11.95    830.0              8.12\n",
       "2016-03-13  15.07  12.92  15.07  12.92   1300.0             16.64\n",
       "2016-03-14  12.50  15.07  15.07  11.40  92180.0            -17.05"
      ]
     },
     "execution_count": 42,
     "metadata": {},
     "output_type": "execute_result"
    }
   ],
   "source": [
    "df.head()"
   ]
  },
  {
   "attachments": {},
   "cell_type": "markdown",
   "metadata": {},
   "source": [
    "##  dtypes conversion "
   ]
  },
  {
   "cell_type": "code",
   "execution_count": 43,
   "metadata": {},
   "outputs": [],
   "source": [
    "for column in df.columns:\n",
    "    df[column] =df[column].astype('float')\n",
    "    "
   ]
  },
  {
   "cell_type": "code",
   "execution_count": 44,
   "metadata": {},
   "outputs": [
    {
     "data": {
      "text/plain": [
       "price                float64\n",
       "open                 float64\n",
       "high                 float64\n",
       "low                  float64\n",
       "volume               float64\n",
       "percentage_change    float64\n",
       "dtype: object"
      ]
     },
     "execution_count": 44,
     "metadata": {},
     "output_type": "execute_result"
    }
   ],
   "source": [
    "df.dtypes"
   ]
  },
  {
   "cell_type": "code",
   "execution_count": 45,
   "metadata": {},
   "outputs": [
    {
     "data": {
      "text/plain": [
       "(2555, 6)"
      ]
     },
     "execution_count": 45,
     "metadata": {},
     "output_type": "execute_result"
    }
   ],
   "source": [
    "df.shape"
   ]
  },
  {
   "attachments": {},
   "cell_type": "markdown",
   "metadata": {},
   "source": [
    "## visualize the recent stock data "
   ]
  },
  {
   "cell_type": "code",
   "execution_count": 46,
   "metadata": {},
   "outputs": [
    {
     "data": {
      "image/png": "[encoded data removed]",
      "text/plain": [
       "<Figure size 1400x700 with 6 Axes>"
      ]
     },
     "metadata": {},
     "output_type": "display_data"
    }
   ],
   "source": [
    "ncols = 2\n",
    "nrows = math.ceil(df.shape[1] / ncols)\n",
    "\n",
    "fig, ax = plt.subplots(nrows=nrows, ncols=ncols, sharex=True, figsize=(14, 7)) # sharex allows for all subplots to have the same x-axis\n",
    "for i, ax in enumerate(fig.axes):\n",
    "        sns.lineplot(data = df.iloc[:, i], ax=ax)  # plot the i-th column of the dataframe\n",
    "        ax.tick_params(axis=\"x\", rotation=30, labelsize=10, length=0)\n",
    "        ax.xaxis.set_major_locator(mdates.AutoDateLocator()) # AutoDateFormatter class figures out the best format to use for the date\n",
    "fig.tight_layout()\n",
    "plt.show()"
   ]
  },
  {
   "attachments": {},
   "cell_type": "markdown",
   "metadata": {},
   "source": [
    "## Addressing Scale difference"
   ]
  },
  {
   "cell_type": "code",
   "execution_count": 47,
   "metadata": {},
   "outputs": [],
   "source": [
    "from sklearn.preprocessing import MinMaxScaler\n",
    "\n",
    "TARGET = 'open'\n",
    "FEATURES = list(df.columns)\n",
    "FEATURES.remove(TARGET)\n",
    "\n",
    "X = df[FEATURES]\n",
    "y = df[TARGET]\n"
   ]
  },
  {
   "cell_type": "code",
   "execution_count": 48,
   "metadata": {},
   "outputs": [],
   "source": [
    "\n",
    "# Transform the data by scaling each feature to a range between 0 and 1\n",
    "scaler_features = MinMaxScaler()\n",
    "scaler_pred = MinMaxScaler()\n",
    "\n",
    "X_scaled = scaler_features.fit_transform(X)\n",
    "y_scaled  = scaler_pred.fit_transform(y.values.reshape(-1, 1))"
   ]
  },
  {
   "cell_type": "code",
   "execution_count": 49,
   "metadata": {},
   "outputs": [
    {
     "data": {
      "text/plain": [
       "(2555, 6)"
      ]
     },
     "execution_count": 49,
     "metadata": {},
     "output_type": "execute_result"
    }
   ],
   "source": [
    "np_data = np.column_stack((X_scaled, y_scaled))\n",
    "np_data.shape"
   ]
  },
  {
   "cell_type": "code",
   "execution_count": 123,
   "metadata": {},
   "outputs": [],
   "source": [
    "df = pd.DataFrame(np_data, columns=df.columns, index=df.index)\n",
    "\n",
    "df.to_parquet('trained_set.parquet')"
   ]
  },
  {
   "attachments": {},
   "cell_type": "markdown",
   "metadata": {},
   "source": [
    "## reshape source data "
   ]
  },
  {
   "cell_type": "code",
   "execution_count": 94,
   "metadata": {},
   "outputs": [
    {
     "name": "stdout",
     "output_type": "stream",
     "text": [
      "Index open: 1\n"
     ]
    }
   ],
   "source": [
    "\n",
    "sequence_length  = 1\n",
    "\n",
    "index_open = df.columns.get_loc(\"open\") # returns the index of the Close column\n",
    "print(\"Index open: \" + str(index_open))\n",
    "\n",
    "def partition_dataset(sequence_length, data):\n",
    "    x, y = [],[]\n",
    "    data_len = data.shape[0]\n",
    "    for i in range(sequence_length, data_len):\n",
    "        x.append(data[i-sequence_length:i,:]) #contains sequence_length values 0-sequence_length * columns\n",
    "        y.append(data[i, index_open]) #contains the prediction values for validation,  for single-step prediction\n",
    "    \n",
    "    # Convert the x and y to numpy arrays\n",
    "    x = np.array(x)\n",
    "    x = np.delete(x, index_open, 2) #delete the Close column in the 3d array (delete index_Close column in the 2nd dimension)\n",
    "    y = np.array(y)\n",
    "    return x, y\n",
    "\n",
    "# Generate training data and test data\n",
    "X, y = partition_dataset(sequence_length, np_data)"
   ]
  },
  {
   "attachments": {},
   "cell_type": "markdown",
   "metadata": {},
   "source": [
    "## train test split "
   ]
  },
  {
   "cell_type": "code",
   "execution_count": 95,
   "metadata": {},
   "outputs": [],
   "source": [
    "from sklearn.model_selection import train_test_split\n",
    "\n",
    "\n",
    "X_train, X_test, y_train, y_test  = train_test_split(X, y, test_size=0.2, shuffle=False)"
   ]
  },
  {
   "cell_type": "code",
   "execution_count": 96,
   "metadata": {},
   "outputs": [
    {
     "name": "stdout",
     "output_type": "stream",
     "text": [
      "(2043, 1, 5) (2043,)\n",
      "(511, 1, 5) (511,)\n"
     ]
    }
   ],
   "source": [
    "# Print the shapes: the result is: (rows, training_sequence, features) (prediction value, )\n",
    "print(X_train.shape, y_train.shape)\n",
    "print(X_test.shape, y_test.shape)"
   ]
  },
  {
   "cell_type": "code",
   "execution_count": 97,
   "metadata": {},
   "outputs": [
    {
     "name": "stdout",
     "output_type": "stream",
     "text": [
      "Model: \"sequential_2\"\n",
      "_________________________________________________________________\n",
      " Layer (type)                Output Shape              Param #   \n",
      "=================================================================\n",
      " lstm_2 (LSTM)               (None, 100)               42400     \n",
      "                                                                 \n",
      " dense_4 (Dense)             (None, 5)                 505       \n",
      "                                                                 \n",
      " dense_5 (Dense)             (None, 1)                 6         \n",
      "                                                                 \n",
      "=================================================================\n",
      "Total params: 42,911\n",
      "Trainable params: 42,911\n",
      "Non-trainable params: 0\n",
      "_________________________________________________________________\n"
     ]
    }
   ],
   "source": [
    "from keras.optimizers import Adam\n",
    "import tensorflow as tf\n",
    "\n",
    "# Configure the neural network model\n",
    "model = Sequential()\n",
    "\n",
    "# Model with n_neurons = inputshape Timestamps, each with x_train.shape[2] variables\n",
    "model.add(LSTM(100, input_shape=(X_train.shape[1], X_train.shape[2]), return_sequences=False )) \n",
    "model.add(Dense(5, activation='relu'))\n",
    "model.add(Dense(1, activation=None))\n",
    "\n",
    "lr_schedule = tf.keras.optimizers.schedules.ExponentialDecay(\n",
    "    initial_learning_rate=1e-2,\n",
    "    decay_steps=10000,\n",
    "    decay_rate=0.9)\n",
    "\n",
    "# Compile the model\n",
    "model.compile(\n",
    "    optimizer=Adam(learning_rate=lr_schedule),\n",
    "    loss='mse'\n",
    ")\n",
    "model.summary()"
   ]
  },
  {
   "cell_type": "code",
   "execution_count": 98,
   "metadata": {},
   "outputs": [
    {
     "name": "stdout",
     "output_type": "stream",
     "text": [
      "Epoch 1/50\n",
      "128/128 [==============================] - 3s 6ms/step - loss: 0.0030 - val_loss: 6.4382e-04\n",
      "Epoch 2/50\n",
      "128/128 [==============================] - 0s 3ms/step - loss: 1.3130e-04 - val_loss: 3.5958e-04\n",
      "Epoch 3/50\n",
      "128/128 [==============================] - 0s 3ms/step - loss: 1.0932e-04 - val_loss: 4.1585e-04\n",
      "Epoch 4/50\n",
      "128/128 [==============================] - 0s 3ms/step - loss: 1.0696e-04 - val_loss: 0.0022\n",
      "Epoch 5/50\n",
      "128/128 [==============================] - 0s 3ms/step - loss: 1.3491e-04 - val_loss: 5.3411e-04\n",
      "Epoch 6/50\n",
      "128/128 [==============================] - 0s 3ms/step - loss: 1.2242e-04 - val_loss: 9.9708e-04\n",
      "Epoch 7/50\n",
      "128/128 [==============================] - 0s 3ms/step - loss: 1.3937e-04 - val_loss: 5.2835e-04\n",
      "Epoch 8/50\n",
      "128/128 [==============================] - 0s 3ms/step - loss: 1.3289e-04 - val_loss: 5.1363e-04\n",
      "Epoch 9/50\n",
      "128/128 [==============================] - 0s 3ms/step - loss: 1.2514e-04 - val_loss: 6.9011e-04\n",
      "Epoch 9: early stopping\n"
     ]
    }
   ],
   "source": [
    "# Training the model\n",
    "epochs = 50 # should be at least 50, but it takes a long time to train. \n",
    "batch_size = 16\n",
    "early_stop = EarlyStopping(monitor='loss', patience=5, verbose=1)\n",
    "history = model.fit(\n",
    "        X_train, y_train, \n",
    "        batch_size=batch_size, \n",
    "        epochs=epochs,\n",
    "        validation_data=(X_test, y_test),\n",
    "        callbacks=[early_stop]\n",
    ")"
   ]
  },
  {
   "attachments": {},
   "cell_type": "markdown",
   "metadata": {},
   "source": [
    "## model performance "
   ]
  },
  {
   "cell_type": "code",
   "execution_count": 99,
   "metadata": {},
   "outputs": [
    {
     "name": "stdout",
     "output_type": "stream",
     "text": [
      "16/16 [==============================] - 0s 1ms/step\n"
     ]
    }
   ],
   "source": [
    "# Get the predicted values\n",
    "y_pred = model.predict(X_test)\n",
    "y_pred.shape\n",
    "# # Unscale the predicted values\n",
    "y_pred_unscaled = scaler_pred.inverse_transform(y_pred)\n",
    "y_test_unscaled = scaler_pred.inverse_transform(y_test.reshape(-1, 1))"
   ]
  },
  {
   "cell_type": "code",
   "execution_count": 100,
   "metadata": {},
   "outputs": [
    {
     "data": {
      "text/plain": [
       "((511, 1), (511, 1))"
      ]
     },
     "execution_count": 100,
     "metadata": {},
     "output_type": "execute_result"
    }
   ],
   "source": [
    "y_pred_unscaled.shape, y_test_unscaled.shape"
   ]
  },
  {
   "cell_type": "code",
   "execution_count": 101,
   "metadata": {},
   "outputs": [
    {
     "name": "stdout",
     "output_type": "stream",
     "text": [
      "Median Absolute Error (MAE): 74.58\n",
      "Mean Absolute Percentage Error (MAPE): 2.83 %\n",
      "Median Absolute Percentage Error (MDAPE): 1.72 %\n"
     ]
    }
   ],
   "source": [
    "\n",
    "# Mean Absolute Error (MAE)\n",
    "MAE = mean_absolute_error(y_test_unscaled, y_pred_unscaled)\n",
    "print(f'Median Absolute Error (MAE): {np.round(MAE, 2)}')\n",
    "\n",
    "# Mean Absolute Percentage Error (MAPE)\n",
    "MAPE = np.mean((np.abs(np.subtract(y_test_unscaled, y_pred_unscaled)/ y_test_unscaled))) * 100\n",
    "print(f'Mean Absolute Percentage Error (MAPE): {np.round(MAPE, 2)} %')\n",
    "\n",
    "# Median Absolute Percentage Error (MDAPE)\n",
    "MDAPE = np.median((np.abs(np.subtract(y_test_unscaled, y_pred_unscaled)/ y_test_unscaled)) ) * 100\n",
    "print(f'Median Absolute Percentage Error (MDAPE): {np.round(MDAPE, 2)} %')"
   ]
  },
  {
   "cell_type": "code",
   "execution_count": 107,
   "metadata": {},
   "outputs": [
    {
     "data": {
      "image/png": "[encoded data removed]",
      "text/plain": [
       "<Figure size 640x480 with 1 Axes>"
      ]
     },
     "metadata": {},
     "output_type": "display_data"
    }
   ],
   "source": [
    "import matplotlib.pyplot as plt\n",
    "\n",
    "# Create a figure and axis object\n",
    "fig, ax = plt.subplots()\n",
    "\n",
    "# Plot the predicted values\n",
    "ax.plot(y_pred_unscaled, label='Predicted')\n",
    "\n",
    "# Plot the actual values\n",
    "ax.plot( y_test_unscaled, label='Actual')\n",
    "\n",
    "# Set the plot title and axis labels\n",
    "ax.set_title(\"Actual vs Predicted Values\")\n",
    "ax.set_xlabel(\"Date\")\n",
    "ax.set_ylabel(\"Value\")\n",
    "\n",
    "# Add a legend to the plot\n",
    "ax.legend()\n",
    "\n",
    "# Show the plot\n",
    "plt.show()\n"
   ]
  },
  {
   "attachments": {},
   "cell_type": "markdown",
   "metadata": {},
   "source": [
    "## save model"
   ]
  },
  {
   "cell_type": "code",
   "execution_count": 108,
   "metadata": {},
   "outputs": [],
   "source": [
    "model.save(\"eth_lstm_model.h5\")\n",
    "model.save_weights('eth_lstm_weights.h5')"
   ]
  },
  {
   "attachments": {},
   "cell_type": "markdown",
   "metadata": {},
   "source": [
    "## load model"
   ]
  },
  {
   "cell_type": "code",
   "execution_count": 109,
   "metadata": {},
   "outputs": [],
   "source": [
    "from keras.models import load_model\n",
    "\n",
    "loaded_model = load_model('eth_lstm_model.h5')\n",
    "loaded_model.load_weights('eth_lstm_weights.h5')"
   ]
  },
  {
   "attachments": {},
   "cell_type": "markdown",
   "metadata": {},
   "source": [
    "## New prediction"
   ]
  },
  {
   "cell_type": "code",
   "execution_count": 110,
   "metadata": {},
   "outputs": [
    {
     "data": {
      "text/plain": [
       "Timestamp('2023-03-08 00:00:00')"
      ]
     },
     "execution_count": 110,
     "metadata": {},
     "output_type": "execute_result"
    }
   ],
   "source": [
    "list(df.index)[-1]"
   ]
  },
  {
   "cell_type": "code",
   "execution_count": 111,
   "metadata": {},
   "outputs": [
    {
     "name": "stdout",
     "output_type": "stream",
     "text": [
      "Updated start date: 2023-03-01\n",
      "Updated end date: 2023-03-08\n"
     ]
    }
   ],
   "source": [
    "\n",
    "# Start and end dates\n",
    "start_date = '2023-03-01'\n",
    "end_date = '2023-03-08'\n",
    "\n",
    "# Check if start and end dates are within DataFrame index\n",
    "while start_date not in df.index or end_date not in df.index:\n",
    "    start_date = pd.to_datetime(start_date) - pd.DateOffset(years=1)\n",
    "    end_date = pd.to_datetime(end_date) - pd.DateOffset(years=1)\n",
    "\n",
    "print(\"Updated start date:\", start_date)\n",
    "print(\"Updated end date:\", end_date)\n"
   ]
  },
  {
   "cell_type": "code",
   "execution_count": 115,
   "metadata": {},
   "outputs": [
    {
     "data": {
      "text/plain": [
       "(8, 6)"
      ]
     },
     "execution_count": 115,
     "metadata": {},
     "output_type": "execute_result"
    }
   ],
   "source": [
    "df_new = df[start_date:end_date]\n",
    "\n",
    "df_new.shape"
   ]
  },
  {
   "cell_type": "code",
   "execution_count": 119,
   "metadata": {},
   "outputs": [
    {
     "data": {
      "text/plain": [
       "(7, 1, 5)"
      ]
     },
     "execution_count": 119,
     "metadata": {},
     "output_type": "execute_result"
    }
   ],
   "source": [
    "X,y = partition_dataset(1, df_new.to_numpy())\n",
    "X.shape"
   ]
  },
  {
   "cell_type": "code",
   "execution_count": 120,
   "metadata": {},
   "outputs": [
    {
     "name": "stdout",
     "output_type": "stream",
     "text": [
      "1/1 [==============================] - 0s 346ms/step\n"
     ]
    }
   ],
   "source": [
    "y_pred = loaded_model.predict(X)\n",
    "y_pred_unscaled = scaler_pred.inverse_transform(y_pred)\n",
    "y_test_unscaled = scaler_pred.inverse_transform(y.reshape(-1, 1))\n",
    "\n"
   ]
  },
  {
   "cell_type": "code",
   "execution_count": 121,
   "metadata": {},
   "outputs": [
    {
     "data": {
      "text/plain": [
       "(7, 1)"
      ]
     },
     "execution_count": 121,
     "metadata": {},
     "output_type": "execute_result"
    }
   ],
   "source": [
    "y_pred.shape"
   ]
  },
  {
   "cell_type": "code",
   "execution_count": 122,
   "metadata": {},
   "outputs": [
    {
     "data": {
      "image/png": "[encoded data removed]",
      "text/plain": [
       "<Figure size 640x480 with 1 Axes>"
      ]
     },
     "metadata": {},
     "output_type": "display_data"
    }
   ],
   "source": [
    "\n",
    "\n",
    "# Create a figure and axis object\n",
    "fig, ax = plt.subplots()\n",
    "\n",
    "# Plot the predicted values\n",
    "ax.plot(y_pred_unscaled, label='Predicted')\n",
    "\n",
    "# Plot the actual values\n",
    "ax.plot(y_test_unscaled, label='Actual')\n",
    "\n",
    "# Set the plot title and axis labels\n",
    "ax.set_title(\"Actual vs Predicted Values\")\n",
    "ax.set_xlabel(\"Index\")\n",
    "ax.set_ylabel(\"Value\")\n",
    "\n",
    "# Add a legend to the plot\n",
    "ax.legend()\n",
    "\n",
    "# Show the plot\n",
    "plt.show()\n"
   ]
  },
  {
   "cell_type": "code",
   "execution_count": null,
   "metadata": {},
   "outputs": [],
   "source": []
  }
 ],
 "metadata": {
  "kernelspec": {
   "display_name": "base",
   "language": "python",
   "name": "python3"
  },
  "language_info": {
   "codemirror_mode": {
    "name": "ipython",
    "version": 3
   },
   "file_extension": ".py",
   "mimetype": "text/x-python",
   "name": "python",
   "nbconvert_exporter": "python",
   "pygments_lexer": "ipython3",
   "version": "3.9.16"
  },
  "orig_nbformat": 4
 },
 "nbformat": 4,
 "nbformat_minor": 2
}
